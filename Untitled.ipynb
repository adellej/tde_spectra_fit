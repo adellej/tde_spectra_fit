{
 "cells": [
  {
   "cell_type": "markdown",
   "metadata": {},
   "source": [
    "Example notebook on implementation of tde_spectra_fit"
   ]
  },
  {
   "cell_type": "code",
   "execution_count": 4,
   "metadata": {},
   "outputs": [
    {
     "ename": "ImportError",
     "evalue": "cannot import name 'TDE_fit' from 'tde_spectra_fit' (/Users/adelle/Documents/TDE_data/spectral_fitting/TDE_spectra/tde_specta_fit/tde_spectra_fit/tde_spectra_fit/__init__.py)",
     "output_type": "error",
     "traceback": [
      "\u001b[0;31m---------------------------------------------------------------------------\u001b[0m",
      "\u001b[0;31mImportError\u001b[0m                               Traceback (most recent call last)",
      "\u001b[0;32m<ipython-input-4-f862cea13242>\u001b[0m in \u001b[0;36m<module>\u001b[0;34m\u001b[0m\n\u001b[1;32m      1\u001b[0m \u001b[0;31m# import tde_spectra_fit class:\u001b[0m\u001b[0;34m\u001b[0m\u001b[0;34m\u001b[0m\u001b[0;34m\u001b[0m\u001b[0m\n\u001b[1;32m      2\u001b[0m \u001b[0;34m\u001b[0m\u001b[0m\n\u001b[0;32m----> 3\u001b[0;31m \u001b[0;32mfrom\u001b[0m \u001b[0mtde_spectra_fit\u001b[0m \u001b[0;32mimport\u001b[0m \u001b[0mTDE_fit\u001b[0m\u001b[0;34m\u001b[0m\u001b[0;34m\u001b[0m\u001b[0m\n\u001b[0m",
      "\u001b[0;31mImportError\u001b[0m: cannot import name 'TDE_fit' from 'tde_spectra_fit' (/Users/adelle/Documents/TDE_data/spectral_fitting/TDE_spectra/tde_specta_fit/tde_spectra_fit/tde_spectra_fit/__init__.py)"
     ]
    }
   ],
   "source": [
    "# import tde_spectra_fit class:\n",
    "\n",
    "from tde_spectra_fit import TDE_fit"
   ]
  },
  {
   "cell_type": "code",
   "execution_count": null,
   "metadata": {},
   "outputs": [],
   "source": [
    "# set up your data arrays:\n",
    "\n",
    "# Example data (from Alexander et al 2016):\n",
    "\n",
    "flux_density = np.array([2.18, 2.12, 2.13, 2.00, 1.84, 1.56, 1.26, 1.06, 0.84,\\\n",
    "               0.73, 0.59, 0.44, 0.30]) #mJy\n",
    "\n",
    "u_flux_density_up = np.array([0.08, 0.10, 0.09, 0.05, 0.03, 0.03, 0.03, 0.02, 0.04,\\\n",
    "                 0.02, 0.02, 0.09, 0.04])\n",
    "\n",
    "u_flux_density_low = np.array([0.08, 0.10, 0.09, 0.05, 0.03, 0.03, 0.03, 0.02, 0.04,\\\n",
    "                 0.02, 0.02, 0.09, 0.04])\n",
    "\n",
    "frequency = np.array([1.4, 1.5, 1.8, 2.6, 3.4, 5.0, 7.1, 8.5, 11.0, 13.5, 16.0,\\\n",
    "            19.2, 24.5]) #GHz"
   ]
  },
  {
   "cell_type": "code",
   "execution_count": null,
   "metadata": {},
   "outputs": [],
   "source": [
    "# initialise the class:\n",
    "\n",
    "S = TDE_fit(fd = flux_density,\n",
    "        fd_err_low = u_flux_density_low,\n",
    "        fd_err_up = u_flux_density_up,\n",
    "        frequency = frequency,\n",
    "        break_number = 5,\n",
    "        quiescent_flux_density = None,\n",
    "        name = 'Alexander_2016',\n",
    "        nsteps = 10000,\n",
    "        nwalkers = 400)"
   ]
  },
  {
   "cell_type": "code",
   "execution_count": null,
   "metadata": {},
   "outputs": [],
   "source": []
  }
 ],
 "metadata": {
  "kernelspec": {
   "display_name": "Python 3",
   "language": "python",
   "name": "python3"
  },
  "language_info": {
   "codemirror_mode": {
    "name": "ipython",
    "version": 3
   },
   "file_extension": ".py",
   "mimetype": "text/x-python",
   "name": "python",
   "nbconvert_exporter": "python",
   "pygments_lexer": "ipython3",
   "version": "3.8.5"
  }
 },
 "nbformat": 4,
 "nbformat_minor": 4
}
